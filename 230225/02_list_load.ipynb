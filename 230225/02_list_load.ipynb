{
 "cells": [
  {
   "cell_type": "code",
   "execution_count": null,
   "metadata": {},
   "outputs": [],
   "source": [
    "import os"
   ]
  },
  {
   "cell_type": "code",
   "execution_count": null,
   "metadata": {},
   "outputs": [],
   "source": [
    "# 파일 리스트 생성\n",
    "file_list = os.listdir(\"../csv/2017\")"
   ]
  },
  {
   "cell_type": "code",
   "execution_count": null,
   "metadata": {},
   "outputs": [],
   "source": [
    "# 반복문을 이용해서 파일명들을 각각 print\n",
    "# 각각 파일들을 pandas를 이용해서 파일을 로드하여 하나의 데이터프레임으로 결합\n",
    "# 결합은 유니언 결합(concat)을 사용하여 결합\n",
    "# hint : pd.read_csv(파일의 경로  + 파일의 이름)\n",
    "# 비어있는 데이터프레임을 생성 \n",
    "# 반복문에서 read_csv -> pd.concat()\n",
    "\n",
    "# case1(range 사용)\n",
    "for i in range(0, len(file_list), 1):\n",
    "    print(file_list[i])\n",
    "# case2(list 사용)\n",
    "for i in file_list:\n",
    "    print(i)"
   ]
  },
  {
   "cell_type": "code",
   "execution_count": null,
   "metadata": {},
   "outputs": [],
   "source": [
    "## csv를 데이터프레임으로 변경\n",
    "# pd.read_csv(파일경로)\n",
    "print('../csv/2017/' + '201712_expense_list.csv')"
   ]
  },
  {
   "cell_type": "code",
   "execution_count": null,
   "metadata": {},
   "outputs": [],
   "source": [
    "import pandas as pd"
   ]
  },
  {
   "cell_type": "code",
   "execution_count": null,
   "metadata": {},
   "outputs": [],
   "source": [
    "'../csv/2017/' + file_list[0]"
   ]
  },
  {
   "cell_type": "code",
   "execution_count": null,
   "metadata": {},
   "outputs": [],
   "source": [
    "# pd.read_csv('../csv/2017/201701_expense_list.csv')\n",
    "pd.read_csv('../csv/2017/'+file_list[0])"
   ]
  },
  {
   "cell_type": "code",
   "execution_count": null,
   "metadata": {},
   "outputs": [],
   "source": [
    "file_path = '../csv/2017/'  # 문자열을 변수에 담아준다\n",
    "total_df = pd.DataFrame()   # 비어있는 데이터프레임을 total_df에 저장\n",
    "for i in file_list:         # file_list를 반복 -> 리스트 항목 하나하나씩 i에 넣어서\n",
    "    print(file_path + i)    # file_path 문자열과 i의 값을 출력\n",
    "    df = pd.read_csv(file_path + i) \n",
    "    # file_path와 i를 합친 문자열(상대주소)의 csv파일을 \n",
    "    # 데이터프레임화하여 df라는 변수에 저장\n",
    "    # case1\n",
    "    # total_df = pd.concat([total_df, df], axis='rows')\\\n",
    "    #     .reset_index(drop=True)\n",
    "    # case2\n",
    "    total_df = pd.concat([total_df, df], axis=0, ignore_index=True)\n",
    "\n"
   ]
  },
  {
   "cell_type": "code",
   "execution_count": null,
   "metadata": {},
   "outputs": [],
   "source": [
    "total_df.info()"
   ]
  },
  {
   "cell_type": "code",
   "execution_count": null,
   "metadata": {},
   "outputs": [],
   "source": [
    "a = '123456789.csv'\n",
    "b = '1234.csv'\n",
    "\n",
    "## a 문자열에서 마지막 3글자만 추출\n",
    "print(a[-3:])"
   ]
  },
  {
   "cell_type": "code",
   "execution_count": null,
   "metadata": {},
   "outputs": [],
   "source": [
    "file_list2 = os.listdir(\"../csv/2021\")\n",
    "file_list2"
   ]
  },
  {
   "cell_type": "code",
   "execution_count": null,
   "metadata": {},
   "outputs": [],
   "source": [
    "for i in range(len(file_list2)):\n",
    "    if file_list2[i][-3:] == 'csv':\n",
    "        print(file_list2[i])"
   ]
  },
  {
   "cell_type": "code",
   "execution_count": null,
   "metadata": {},
   "outputs": [],
   "source": [
    "for i in file_list2:\n",
    "    if i.endswith('.csv'):\n",
    "        print(i)"
   ]
  },
  {
   "cell_type": "code",
   "execution_count": 35,
   "metadata": {},
   "outputs": [],
   "source": [
    "file_path = '../csv/2017/'"
   ]
  },
  {
   "cell_type": "code",
   "execution_count": 36,
   "metadata": {},
   "outputs": [
    {
     "data": {
      "text/plain": [
       "['201701_expense_list.csv',\n",
       " '201702_expense_list.csv',\n",
       " '201703_expense_list.csv',\n",
       " '201704_expense_list.csv',\n",
       " '201705_expense_list.csv',\n",
       " '201706_expense_list.csv',\n",
       " '201707_expense_list.csv',\n",
       " '201708_expense_list.csv',\n",
       " '201709_expense_list.csv',\n",
       " '201710_expense_list.csv',\n",
       " '201711_expense_list.csv',\n",
       " '201712_expense_list.csv']"
      ]
     },
     "execution_count": 36,
     "metadata": {},
     "output_type": "execute_result"
    }
   ],
   "source": [
    "os.listdir(file_path)"
   ]
  },
  {
   "cell_type": "code",
   "execution_count": 45,
   "metadata": {},
   "outputs": [],
   "source": [
    "## 함수 생성 \n",
    "## 매개변수 2개 path, end_string\n",
    "def list_df(path, end_string):\n",
    "    # file_list 생성\n",
    "    file_list = os.listdir(path)\n",
    "    # 확장자가 end_string과 같은 경우의 리스트만 추출\n",
    "    # case1\n",
    "    file_list2 = []\n",
    "    for i in file_list:\n",
    "        if i.endswith(end_string):\n",
    "            file_list2.append(i)\n",
    "    # case2 \n",
    "    file_list3 = [i for i in file_list if i.endswith(end_string)]\n",
    "    print(file_list2 == file_list3)\n",
    "\n",
    "    # file_list2의 리스트 항목들을 데이터프레임화 하여 \n",
    "    # 하나의 데이터프레임으로 결합\n",
    "\n",
    "    # 비어있는 데이터프레임 생성\n",
    "    total_df = pd.DataFrame()\n",
    "\n",
    "    # file_list2의 항목들을 가지고 반복문 실행\n",
    "    for i in file_list2:\n",
    "        # path는 매개변수, i는 file_list2 항목의 값\n",
    "        if end_string == '.csv':\n",
    "            df = pd.read_csv(path + i)\n",
    "        elif end_string == '.json':\n",
    "            df = pd.read_json(path + i)\n",
    "        elif (end_string == '.xlsx') | (end_string == '.xls'):\n",
    "            df = pd.read_excel(path + i)\n",
    "        else : \n",
    "            return '확장자가 잘못 입력되었습니다'\n",
    "        # 불러온 데이터프레임을 total_df에 단순한 행 결합\n",
    "        total_df = pd.concat([total_df, df], axis=0, ignore_index=True)\n",
    "    \n",
    "    # 합쳐진 데이터프레임을 리턴\n",
    "    return total_df"
   ]
  },
  {
   "cell_type": "code",
   "execution_count": null,
   "metadata": {},
   "outputs": [],
   "source": [
    "list_df('../csv/2017/', '.csv')"
   ]
  },
  {
   "cell_type": "code",
   "execution_count": 40,
   "metadata": {},
   "outputs": [
    {
     "name": "stdout",
     "output_type": "stream",
     "text": [
      "True\n",
      "True\n"
     ]
    }
   ],
   "source": [
    "df_2017 = list_df('../csv/2017/', '/csv')\n",
    "df_2018 = list_df(\"../csv/2018/\", '.csv')"
   ]
  },
  {
   "cell_type": "code",
   "execution_count": null,
   "metadata": {},
   "outputs": [],
   "source": [
    "# json 데이터를 데이터프레임으로 로드 \n",
    "json_data = pd.read_json(\"../csv/2019/201901_expense_list.json\")\n",
    "json_data.info()"
   ]
  },
  {
   "cell_type": "code",
   "execution_count": null,
   "metadata": {},
   "outputs": [],
   "source": [
    "# xlsx 파일을 로드하기위한 엔진 라이브러리를 설치 \n",
    "!pip install openpyxl"
   ]
  },
  {
   "cell_type": "code",
   "execution_count": 44,
   "metadata": {},
   "outputs": [
    {
     "name": "stdout",
     "output_type": "stream",
     "text": [
      "<class 'pandas.core.frame.DataFrame'>\n",
      "RangeIndex: 5282 entries, 0 to 5281\n",
      "Data columns (total 20 columns):\n",
      " #   Column             Non-Null Count  Dtype  \n",
      "---  ------             --------------  -----  \n",
      " 0   nid                5282 non-null   int64  \n",
      " 1   title              5282 non-null   object \n",
      " 2   url                5282 non-null   object \n",
      " 3   dept_nm_lvl_1      5282 non-null   object \n",
      " 4   dept_nm_lvl_2      5282 non-null   object \n",
      " 5   dept_nm_lvl_3      4198 non-null   object \n",
      " 6   dept_nm_lvl_4      1272 non-null   object \n",
      " 7   dept_nm_lvl_5      81 non-null     object \n",
      " 8   exec_yr            5282 non-null   int64  \n",
      " 9   exec_month         5282 non-null   int64  \n",
      " 10  expense_budget     355 non-null    float64\n",
      " 11  expense_execution  276 non-null    float64\n",
      " 12  category           224 non-null    object \n",
      " 13  dept_nm_full       5282 non-null   object \n",
      " 14  exec_dt            5282 non-null   object \n",
      " 15  exec_loc           5236 non-null   object \n",
      " 16  exec_purpose       5282 non-null   object \n",
      " 17  target_nm          5257 non-null   object \n",
      " 18  payment_method     5282 non-null   object \n",
      " 19  exec_amount        5282 non-null   int64  \n",
      "dtypes: float64(2), int64(4), object(14)\n",
      "memory usage: 825.4+ KB\n"
     ]
    }
   ],
   "source": [
    "# 엑셀 데이터를 데이터프레임으로 로드\n",
    "excel_data = pd.read_excel(\"../csv/2020/202001_expense_list.xlsx\")\n",
    "excel_data.info()"
   ]
  },
  {
   "cell_type": "code",
   "execution_count": 46,
   "metadata": {},
   "outputs": [
    {
     "name": "stdout",
     "output_type": "stream",
     "text": [
      "True\n",
      "True\n"
     ]
    }
   ],
   "source": [
    "df_2019 = list_df(\"../csv/2019/\", '.json')\n",
    "df_2020 = list_df(\"../csv/2020/\", '.xlsx')"
   ]
  },
  {
   "cell_type": "code",
   "execution_count": 47,
   "metadata": {},
   "outputs": [
    {
     "name": "stdout",
     "output_type": "stream",
     "text": [
      "<class 'pandas.core.frame.DataFrame'>\n",
      "RangeIndex: 70862 entries, 0 to 70861\n",
      "Data columns (total 21 columns):\n",
      " #   Column             Non-Null Count  Dtype  \n",
      "---  ------             --------------  -----  \n",
      " 0   nid                70862 non-null  int64  \n",
      " 1   title              70862 non-null  object \n",
      " 2   url                70862 non-null  object \n",
      " 3   dept_nm_lvl_1      70862 non-null  object \n",
      " 4   dept_nm_lvl_2      70862 non-null  object \n",
      " 5   dept_nm_lvl_3      55593 non-null  object \n",
      " 6   dept_nm_lvl_4      18992 non-null  object \n",
      " 7   dept_nm_lvl_5      1601 non-null   object \n",
      " 8   exec_yr            70862 non-null  int64  \n",
      " 9   exec_month         70862 non-null  int64  \n",
      " 10  expense_budget     1823 non-null   float64\n",
      " 11  expense_execution  1338 non-null   float64\n",
      " 12  category           2123 non-null   object \n",
      " 13  dept_nm_full       70862 non-null  object \n",
      " 14  exec_dt            70862 non-null  object \n",
      " 15  exec_loc           70278 non-null  object \n",
      " 16  exec_purpose       70862 non-null  object \n",
      " 17  target_nm          70488 non-null  object \n",
      " 18  payment_method     70862 non-null  object \n",
      " 19  exec_amount        70862 non-null  int64  \n",
      " 20  bimok              283 non-null    object \n",
      "dtypes: float64(2), int64(4), object(15)\n",
      "memory usage: 11.4+ MB\n"
     ]
    }
   ],
   "source": [
    "df_2020.info()"
   ]
  },
  {
   "cell_type": "code",
   "execution_count": 51,
   "metadata": {},
   "outputs": [
    {
     "data": {
      "text/plain": [
       "<module 'list_pandas' from 'c:\\\\Users\\\\ezen\\\\Documents\\\\GitHub\\\\ezen-python\\\\230225\\\\list_pandas.py'>"
      ]
     },
     "execution_count": 51,
     "metadata": {},
     "output_type": "execute_result"
    }
   ],
   "source": [
    "## 모듈 로드 \n",
    "import list_pandas\n",
    "import imp \n",
    "imp.reload(list_pandas)"
   ]
  },
  {
   "cell_type": "code",
   "execution_count": 49,
   "metadata": {},
   "outputs": [
    {
     "name": "stdout",
     "output_type": "stream",
     "text": [
      "True\n"
     ]
    },
    {
     "data": {
      "text/html": [
       "<div>\n",
       "<style scoped>\n",
       "    .dataframe tbody tr th:only-of-type {\n",
       "        vertical-align: middle;\n",
       "    }\n",
       "\n",
       "    .dataframe tbody tr th {\n",
       "        vertical-align: top;\n",
       "    }\n",
       "\n",
       "    .dataframe thead th {\n",
       "        text-align: right;\n",
       "    }\n",
       "</style>\n",
       "<table border=\"1\" class=\"dataframe\">\n",
       "  <thead>\n",
       "    <tr style=\"text-align: right;\">\n",
       "      <th></th>\n",
       "      <th>nid</th>\n",
       "      <th>title</th>\n",
       "      <th>url</th>\n",
       "      <th>dept_nm_lvl_1</th>\n",
       "      <th>dept_nm_lvl_2</th>\n",
       "      <th>dept_nm_lvl_3</th>\n",
       "      <th>dept_nm_lvl_4</th>\n",
       "      <th>dept_nm_lvl_5</th>\n",
       "      <th>exec_yr</th>\n",
       "      <th>exec_month</th>\n",
       "      <th>expense_budget</th>\n",
       "      <th>expense_execution</th>\n",
       "      <th>category</th>\n",
       "      <th>dept_nm_full</th>\n",
       "      <th>exec_dt</th>\n",
       "      <th>exec_loc</th>\n",
       "      <th>exec_purpose</th>\n",
       "      <th>target_nm</th>\n",
       "      <th>payment_method</th>\n",
       "      <th>exec_amount</th>\n",
       "    </tr>\n",
       "  </thead>\n",
       "  <tbody>\n",
       "    <tr>\n",
       "      <th>0</th>\n",
       "      <td>11430252</td>\n",
       "      <td>2017년 1월 장애인복지정책과 업무추진비 집행내역</td>\n",
       "      <td>http://opengov.seoul.go.kr/public/11430252</td>\n",
       "      <td>서울시본청</td>\n",
       "      <td>복지본부</td>\n",
       "      <td>장애인복지정책과</td>\n",
       "      <td>NaN</td>\n",
       "      <td>NaN</td>\n",
       "      <td>2017</td>\n",
       "      <td>1</td>\n",
       "      <td>NaN</td>\n",
       "      <td>NaN</td>\n",
       "      <td>NaN</td>\n",
       "      <td>복지본부 장애인복지정책과</td>\n",
       "      <td>2017-01-26 13:10</td>\n",
       "      <td>동해일식 (중구 무교동)</td>\n",
       "      <td>기본소득과 장애인복지 논의간담회</td>\n",
       "      <td>장애인복지정책팀장 외 2명</td>\n",
       "      <td>카드</td>\n",
       "      <td>76000</td>\n",
       "    </tr>\n",
       "    <tr>\n",
       "      <th>1</th>\n",
       "      <td>11430252</td>\n",
       "      <td>2017년 1월 장애인복지정책과 업무추진비 집행내역</td>\n",
       "      <td>http://opengov.seoul.go.kr/public/11430252</td>\n",
       "      <td>서울시본청</td>\n",
       "      <td>복지본부</td>\n",
       "      <td>장애인복지정책과</td>\n",
       "      <td>NaN</td>\n",
       "      <td>NaN</td>\n",
       "      <td>2017</td>\n",
       "      <td>1</td>\n",
       "      <td>NaN</td>\n",
       "      <td>NaN</td>\n",
       "      <td>NaN</td>\n",
       "      <td>복지본부 장애인복지정책과</td>\n",
       "      <td>2017-01-25 22:41</td>\n",
       "      <td>김앤장 (중구 무교로)</td>\n",
       "      <td>장애인단체 활동지원 논의간담회</td>\n",
       "      <td>장애인복지정책과장 외 3명</td>\n",
       "      <td>카드</td>\n",
       "      <td>102000</td>\n",
       "    </tr>\n",
       "    <tr>\n",
       "      <th>2</th>\n",
       "      <td>11430252</td>\n",
       "      <td>2017년 1월 장애인복지정책과 업무추진비 집행내역</td>\n",
       "      <td>http://opengov.seoul.go.kr/public/11430252</td>\n",
       "      <td>서울시본청</td>\n",
       "      <td>복지본부</td>\n",
       "      <td>장애인복지정책과</td>\n",
       "      <td>NaN</td>\n",
       "      <td>NaN</td>\n",
       "      <td>2017</td>\n",
       "      <td>1</td>\n",
       "      <td>NaN</td>\n",
       "      <td>NaN</td>\n",
       "      <td>NaN</td>\n",
       "      <td>복지본부 장애인복지정책과</td>\n",
       "      <td>2017-01-24 12:35</td>\n",
       "      <td>왕왕생고기 (중구 을지로)</td>\n",
       "      <td>장애인 기본돌봄 복지시책 논의간담회</td>\n",
       "      <td>장애인복지정책팀장외7명</td>\n",
       "      <td>카드</td>\n",
       "      <td>80000</td>\n",
       "    </tr>\n",
       "    <tr>\n",
       "      <th>3</th>\n",
       "      <td>11430252</td>\n",
       "      <td>2017년 1월 장애인복지정책과 업무추진비 집행내역</td>\n",
       "      <td>http://opengov.seoul.go.kr/public/11430252</td>\n",
       "      <td>서울시본청</td>\n",
       "      <td>복지본부</td>\n",
       "      <td>장애인복지정책과</td>\n",
       "      <td>NaN</td>\n",
       "      <td>NaN</td>\n",
       "      <td>2017</td>\n",
       "      <td>1</td>\n",
       "      <td>NaN</td>\n",
       "      <td>NaN</td>\n",
       "      <td>NaN</td>\n",
       "      <td>복지본부 장애인복지정책과</td>\n",
       "      <td>2017-01-24 12:23</td>\n",
       "      <td>서울불고기 (중구 남대문로)</td>\n",
       "      <td>서울시일자리통합지원센터 운영개선 논의간담회</td>\n",
       "      <td>장애인복지정책과장외5명</td>\n",
       "      <td>카드</td>\n",
       "      <td>112000</td>\n",
       "    </tr>\n",
       "    <tr>\n",
       "      <th>4</th>\n",
       "      <td>11430252</td>\n",
       "      <td>2017년 1월 장애인복지정책과 업무추진비 집행내역</td>\n",
       "      <td>http://opengov.seoul.go.kr/public/11430252</td>\n",
       "      <td>서울시본청</td>\n",
       "      <td>복지본부</td>\n",
       "      <td>장애인복지정책과</td>\n",
       "      <td>NaN</td>\n",
       "      <td>NaN</td>\n",
       "      <td>2017</td>\n",
       "      <td>1</td>\n",
       "      <td>NaN</td>\n",
       "      <td>NaN</td>\n",
       "      <td>NaN</td>\n",
       "      <td>복지본부 장애인복지정책과</td>\n",
       "      <td>2017-01-23 15:10</td>\n",
       "      <td>서울시청신매점</td>\n",
       "      <td>부서운영에 필요한 음료수 구매</td>\n",
       "      <td>장애인복지정책과직원</td>\n",
       "      <td>카드</td>\n",
       "      <td>16000</td>\n",
       "    </tr>\n",
       "    <tr>\n",
       "      <th>...</th>\n",
       "      <td>...</td>\n",
       "      <td>...</td>\n",
       "      <td>...</td>\n",
       "      <td>...</td>\n",
       "      <td>...</td>\n",
       "      <td>...</td>\n",
       "      <td>...</td>\n",
       "      <td>...</td>\n",
       "      <td>...</td>\n",
       "      <td>...</td>\n",
       "      <td>...</td>\n",
       "      <td>...</td>\n",
       "      <td>...</td>\n",
       "      <td>...</td>\n",
       "      <td>...</td>\n",
       "      <td>...</td>\n",
       "      <td>...</td>\n",
       "      <td>...</td>\n",
       "      <td>...</td>\n",
       "      <td>...</td>\n",
       "    </tr>\n",
       "    <tr>\n",
       "      <th>70127</th>\n",
       "      <td>14292506</td>\n",
       "      <td>2017년 12월 사업소_은평병원_원무과 업무추진비 내역</td>\n",
       "      <td>http://opengov.seoul.go.kr/public/14292506</td>\n",
       "      <td>사업소</td>\n",
       "      <td>은평병원</td>\n",
       "      <td>원무과</td>\n",
       "      <td>NaN</td>\n",
       "      <td>NaN</td>\n",
       "      <td>2017</td>\n",
       "      <td>12</td>\n",
       "      <td>NaN</td>\n",
       "      <td>NaN</td>\n",
       "      <td>NaN</td>\n",
       "      <td>원무과</td>\n",
       "      <td>2017-12-15 16:40</td>\n",
       "      <td>보리네생고깃간(서오릉로 12)</td>\n",
       "      <td>지역정신보건기관 업무협의 간담회</td>\n",
       "      <td>병원장 외 4명</td>\n",
       "      <td>카드</td>\n",
       "      <td>112000</td>\n",
       "    </tr>\n",
       "    <tr>\n",
       "      <th>70128</th>\n",
       "      <td>14292506</td>\n",
       "      <td>2017년 12월 사업소_은평병원_원무과 업무추진비 내역</td>\n",
       "      <td>http://opengov.seoul.go.kr/public/14292506</td>\n",
       "      <td>사업소</td>\n",
       "      <td>은평병원</td>\n",
       "      <td>원무과</td>\n",
       "      <td>NaN</td>\n",
       "      <td>NaN</td>\n",
       "      <td>2017</td>\n",
       "      <td>12</td>\n",
       "      <td>NaN</td>\n",
       "      <td>NaN</td>\n",
       "      <td>NaN</td>\n",
       "      <td>원무과</td>\n",
       "      <td>2017-12-12 20:39</td>\n",
       "      <td>항아리홍어(불광동 281-159)</td>\n",
       "      <td>원무과 현안업무 추진직원 격려 간담회</td>\n",
       "      <td>원무과장 외 4명</td>\n",
       "      <td>카드</td>\n",
       "      <td>118000</td>\n",
       "    </tr>\n",
       "    <tr>\n",
       "      <th>70129</th>\n",
       "      <td>14292506</td>\n",
       "      <td>2017년 12월 사업소_은평병원_원무과 업무추진비 내역</td>\n",
       "      <td>http://opengov.seoul.go.kr/public/14292506</td>\n",
       "      <td>사업소</td>\n",
       "      <td>은평병원</td>\n",
       "      <td>원무과</td>\n",
       "      <td>NaN</td>\n",
       "      <td>NaN</td>\n",
       "      <td>2017</td>\n",
       "      <td>12</td>\n",
       "      <td>NaN</td>\n",
       "      <td>NaN</td>\n",
       "      <td>NaN</td>\n",
       "      <td>원무과</td>\n",
       "      <td>2017-12-04 21:17</td>\n",
       "      <td>횟집산이네(백련산로 160)</td>\n",
       "      <td>18년 예산편성 관련 직원 격려 간담회</td>\n",
       "      <td>서무팀장 외 5명</td>\n",
       "      <td>카드</td>\n",
       "      <td>124000</td>\n",
       "    </tr>\n",
       "    <tr>\n",
       "      <th>70130</th>\n",
       "      <td>14292506</td>\n",
       "      <td>2017년 12월 사업소_은평병원_원무과 업무추진비 내역</td>\n",
       "      <td>http://opengov.seoul.go.kr/public/14292506</td>\n",
       "      <td>사업소</td>\n",
       "      <td>은평병원</td>\n",
       "      <td>원무과</td>\n",
       "      <td>NaN</td>\n",
       "      <td>NaN</td>\n",
       "      <td>2017</td>\n",
       "      <td>12</td>\n",
       "      <td>NaN</td>\n",
       "      <td>NaN</td>\n",
       "      <td>NaN</td>\n",
       "      <td>원무과</td>\n",
       "      <td>2017-12-05 18:21</td>\n",
       "      <td>삿뽀로(서오릉로 4)</td>\n",
       "      <td>인증 관련업무 직원 격려 간담회</td>\n",
       "      <td>병원장 외 33명</td>\n",
       "      <td>카드</td>\n",
       "      <td>820000</td>\n",
       "    </tr>\n",
       "    <tr>\n",
       "      <th>70131</th>\n",
       "      <td>14292506</td>\n",
       "      <td>2017년 12월 사업소_은평병원_원무과 업무추진비 내역</td>\n",
       "      <td>http://opengov.seoul.go.kr/public/14292506</td>\n",
       "      <td>사업소</td>\n",
       "      <td>은평병원</td>\n",
       "      <td>원무과</td>\n",
       "      <td>NaN</td>\n",
       "      <td>NaN</td>\n",
       "      <td>2017</td>\n",
       "      <td>12</td>\n",
       "      <td>NaN</td>\n",
       "      <td>NaN</td>\n",
       "      <td>NaN</td>\n",
       "      <td>원무과</td>\n",
       "      <td>2017-12-06 18:00</td>\n",
       "      <td>스타벅스(응암동 96-1)</td>\n",
       "      <td>전문의 및 전공의 격려 다과회</td>\n",
       "      <td>병원장 외 11명</td>\n",
       "      <td>카드</td>\n",
       "      <td>440000</td>\n",
       "    </tr>\n",
       "  </tbody>\n",
       "</table>\n",
       "<p>70132 rows × 20 columns</p>\n",
       "</div>"
      ],
      "text/plain": [
       "            nid                            title  \\\n",
       "0      11430252     2017년 1월 장애인복지정책과 업무추진비 집행내역   \n",
       "1      11430252     2017년 1월 장애인복지정책과 업무추진비 집행내역   \n",
       "2      11430252     2017년 1월 장애인복지정책과 업무추진비 집행내역   \n",
       "3      11430252     2017년 1월 장애인복지정책과 업무추진비 집행내역   \n",
       "4      11430252     2017년 1월 장애인복지정책과 업무추진비 집행내역   \n",
       "...         ...                              ...   \n",
       "70127  14292506  2017년 12월 사업소_은평병원_원무과 업무추진비 내역   \n",
       "70128  14292506  2017년 12월 사업소_은평병원_원무과 업무추진비 내역   \n",
       "70129  14292506  2017년 12월 사업소_은평병원_원무과 업무추진비 내역   \n",
       "70130  14292506  2017년 12월 사업소_은평병원_원무과 업무추진비 내역   \n",
       "70131  14292506  2017년 12월 사업소_은평병원_원무과 업무추진비 내역   \n",
       "\n",
       "                                              url dept_nm_lvl_1 dept_nm_lvl_2  \\\n",
       "0      http://opengov.seoul.go.kr/public/11430252         서울시본청          복지본부   \n",
       "1      http://opengov.seoul.go.kr/public/11430252         서울시본청          복지본부   \n",
       "2      http://opengov.seoul.go.kr/public/11430252         서울시본청          복지본부   \n",
       "3      http://opengov.seoul.go.kr/public/11430252         서울시본청          복지본부   \n",
       "4      http://opengov.seoul.go.kr/public/11430252         서울시본청          복지본부   \n",
       "...                                           ...           ...           ...   \n",
       "70127  http://opengov.seoul.go.kr/public/14292506           사업소          은평병원   \n",
       "70128  http://opengov.seoul.go.kr/public/14292506           사업소          은평병원   \n",
       "70129  http://opengov.seoul.go.kr/public/14292506           사업소          은평병원   \n",
       "70130  http://opengov.seoul.go.kr/public/14292506           사업소          은평병원   \n",
       "70131  http://opengov.seoul.go.kr/public/14292506           사업소          은평병원   \n",
       "\n",
       "      dept_nm_lvl_3 dept_nm_lvl_4 dept_nm_lvl_5  exec_yr  exec_month  \\\n",
       "0          장애인복지정책과           NaN           NaN     2017           1   \n",
       "1          장애인복지정책과           NaN           NaN     2017           1   \n",
       "2          장애인복지정책과           NaN           NaN     2017           1   \n",
       "3          장애인복지정책과           NaN           NaN     2017           1   \n",
       "4          장애인복지정책과           NaN           NaN     2017           1   \n",
       "...             ...           ...           ...      ...         ...   \n",
       "70127           원무과           NaN           NaN     2017          12   \n",
       "70128           원무과           NaN           NaN     2017          12   \n",
       "70129           원무과           NaN           NaN     2017          12   \n",
       "70130           원무과           NaN           NaN     2017          12   \n",
       "70131           원무과           NaN           NaN     2017          12   \n",
       "\n",
       "       expense_budget  expense_execution category   dept_nm_full  \\\n",
       "0                 NaN                NaN      NaN  복지본부 장애인복지정책과   \n",
       "1                 NaN                NaN      NaN  복지본부 장애인복지정책과   \n",
       "2                 NaN                NaN      NaN  복지본부 장애인복지정책과   \n",
       "3                 NaN                NaN      NaN  복지본부 장애인복지정책과   \n",
       "4                 NaN                NaN      NaN  복지본부 장애인복지정책과   \n",
       "...               ...                ...      ...            ...   \n",
       "70127             NaN                NaN      NaN            원무과   \n",
       "70128             NaN                NaN      NaN            원무과   \n",
       "70129             NaN                NaN      NaN            원무과   \n",
       "70130             NaN                NaN      NaN            원무과   \n",
       "70131             NaN                NaN      NaN            원무과   \n",
       "\n",
       "                exec_dt            exec_loc             exec_purpose  \\\n",
       "0      2017-01-26 13:10       동해일식 (중구 무교동)        기본소득과 장애인복지 논의간담회   \n",
       "1      2017-01-25 22:41        김앤장 (중구 무교로)         장애인단체 활동지원 논의간담회   \n",
       "2      2017-01-24 12:35      왕왕생고기 (중구 을지로)      장애인 기본돌봄 복지시책 논의간담회   \n",
       "3      2017-01-24 12:23     서울불고기 (중구 남대문로)  서울시일자리통합지원센터 운영개선 논의간담회   \n",
       "4      2017-01-23 15:10             서울시청신매점         부서운영에 필요한 음료수 구매   \n",
       "...                 ...                 ...                      ...   \n",
       "70127  2017-12-15 16:40    보리네생고깃간(서오릉로 12)        지역정신보건기관 업무협의 간담회   \n",
       "70128  2017-12-12 20:39  항아리홍어(불광동 281-159)     원무과 현안업무 추진직원 격려 간담회   \n",
       "70129  2017-12-04 21:17     횟집산이네(백련산로 160)    18년 예산편성 관련 직원 격려 간담회   \n",
       "70130  2017-12-05 18:21         삿뽀로(서오릉로 4)        인증 관련업무 직원 격려 간담회   \n",
       "70131  2017-12-06 18:00      스타벅스(응암동 96-1)         전문의 및 전공의 격려 다과회   \n",
       "\n",
       "            target_nm payment_method  exec_amount  \n",
       "0      장애인복지정책팀장 외 2명             카드        76000  \n",
       "1      장애인복지정책과장 외 3명             카드       102000  \n",
       "2        장애인복지정책팀장외7명             카드        80000  \n",
       "3        장애인복지정책과장외5명             카드       112000  \n",
       "4          장애인복지정책과직원             카드        16000  \n",
       "...               ...            ...          ...  \n",
       "70127        병원장 외 4명             카드       112000  \n",
       "70128       원무과장 외 4명             카드       118000  \n",
       "70129       서무팀장 외 5명             카드       124000  \n",
       "70130       병원장 외 33명             카드       820000  \n",
       "70131       병원장 외 11명             카드       440000  \n",
       "\n",
       "[70132 rows x 20 columns]"
      ]
     },
     "execution_count": 49,
     "metadata": {},
     "output_type": "execute_result"
    }
   ],
   "source": [
    "list_pandas.list_df('../csv/2017/', '.csv')"
   ]
  },
  {
   "cell_type": "code",
   "execution_count": null,
   "metadata": {},
   "outputs": [],
   "source": []
  }
 ],
 "metadata": {
  "kernelspec": {
   "display_name": "Python 3",
   "language": "python",
   "name": "python3"
  },
  "language_info": {
   "codemirror_mode": {
    "name": "ipython",
    "version": 3
   },
   "file_extension": ".py",
   "mimetype": "text/x-python",
   "name": "python",
   "nbconvert_exporter": "python",
   "pygments_lexer": "ipython3",
   "version": "3.11.1"
  },
  "orig_nbformat": 4,
  "vscode": {
   "interpreter": {
    "hash": "c261aea317cc0286b3b3261fbba9abdec21eaa57589985bb7a274bf54d6cc0a7"
   }
  }
 },
 "nbformat": 4,
 "nbformat_minor": 2
}
