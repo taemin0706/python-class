{
 "cells": [
  {
   "cell_type": "code",
   "execution_count": 1,
   "metadata": {},
   "outputs": [],
   "source": [
    "import requests\n",
    "from bs4 import BeautifulSoup as bs"
   ]
  },
  {
   "cell_type": "code",
   "execution_count": 3,
   "metadata": {},
   "outputs": [],
   "source": [
    "# 주소 입력 변수 생성\n",
    "url = 'https://www.naver.com'\n",
    "\n",
    "# 네이버에 요청\n",
    "response = requests.get(url)"
   ]
  },
  {
   "cell_type": "code",
   "execution_count": 4,
   "metadata": {},
   "outputs": [],
   "source": [
    "html_data = response.text"
   ]
  },
  {
   "cell_type": "code",
   "execution_count": 5,
   "metadata": {},
   "outputs": [],
   "source": [
    "# 파싱\n",
    "# html의 형태로 변환\n",
    "soup = bs(html_data, 'html.parser')"
   ]
  },
  {
   "cell_type": "code",
   "execution_count": 6,
   "metadata": {},
   "outputs": [
    {
     "name": "stdout",
     "output_type": "stream",
     "text": [
      "<a href=\"#newsstand\"><span>뉴스스탠드 바로가기</span></a>\n"
     ]
    }
   ],
   "source": [
    "# find() : HTML 안에서 해당 태그의 첫번째 정보 출력\n",
    "# find_all() : HTML 안에서 해당 태그의 모든 정보를 리스트 형식으로 출력\n",
    "print(soup.find(\"a\"))"
   ]
  },
  {
   "cell_type": "code",
   "execution_count": null,
   "metadata": {},
   "outputs": [],
   "source": [
    "print(soup.find_all(\"a\"))"
   ]
  },
  {
   "cell_type": "code",
   "execution_count": null,
   "metadata": {},
   "outputs": [],
   "source": [
    "print(soup.find(id= \"newsstand\"))"
   ]
  },
  {
   "cell_type": "code",
   "execution_count": 13,
   "metadata": {},
   "outputs": [
    {
     "name": "stdout",
     "output_type": "stream",
     "text": [
      "[<span>뉴스스탠드 바로가기</span>, <span>주제별캐스트 바로가기</span>, <span>타임스퀘어 바로가기</span>, <span>쇼핑캐스트 바로가기</span>, <span>로그인 바로가기</span>, <span class=\"_1syGnXOL _3VkgqBXB\" data-clk=\"dropbanner1b\" style=\"padding-right: 20px; font-size: 17px; color: black\"><span>매일 쓰는 브라우저 보안이 걱정된다면, </span><strong>안전하고 빠른 최신 브라우저 웨일로 업데이트 하세요.</strong></span>, <span>매일 쓰는 브라우저 보안이 걱정된다면, </span>, <span style=\"background-color: #0436c7\">다운로드</span>, <span class=\"blind\">네이버</span>, <span class=\"blind\">쥬니어네이버</span>]\n"
     ]
    }
   ],
   "source": [
    "print(soup.find_all(\"span\", limit = 10))"
   ]
  },
  {
   "cell_type": "code",
   "execution_count": 14,
   "metadata": {},
   "outputs": [
    {
     "name": "stdout",
     "output_type": "stream",
     "text": [
      "<span>주제별캐스트 바로가기</span>\n"
     ]
    }
   ],
   "source": [
    "# 리스트의 형태로 출력됨.\n",
    "print(soup.find_all(\"span\", limit = 10)[1])"
   ]
  },
  {
   "cell_type": "code",
   "execution_count": 20,
   "metadata": {},
   "outputs": [
    {
     "name": "stdout",
     "output_type": "stream",
     "text": [
      "[<span class=\"blind\">네이버</span>, <span class=\"blind\">쥬니어네이버</span>, <span class=\"blind\">해피빈</span>, <span class=\"blind\">검색</span>, <span class=\"blind\">한글 입력기</span>, <span class=\"blind\">자동완성 레이어</span>, <span class=\"blind\">쇼핑</span>, <span class=\"blind\">쇼핑LIVE</span>, <span class=\"blind\">리스트형</span>, <span class=\"blind\">썸네일형</span>, <span class=\"blind\">설정</span>, <span class=\"blind\">이전</span>, <span class=\"blind\">다음</span>, <span class=\"blind\">닫기</span>, <span class=\"blind\">닫기</span>, <span class=\"blind\">이전</span>, <span class=\"blind\">다음</span>, <span class=\"blind\">닫기</span>, <span class=\"blind\">닫기</span>, <span class=\"blind\">이전</span>, <span class=\"blind\">다음</span>, <span class=\"blind\">다음</span>, <span class=\"blind\">닫기</span>, <span class=\"blind\">닫기</span>, <span class=\"blind\">이전</span>, <span class=\"blind\">다음</span>, <span class=\"blind\">닫기</span>, <span class=\"blind\">닫기</span>, <span class=\"blind\">이전</span>, <span class=\"blind\">다음</span>, <span class=\"blind\">위</span>, <span class=\"blind\">유지</span>, <span class=\"blind\">위</span>, <span class=\"blind\">유지</span>, <span class=\"blind\">위</span>, <span class=\"blind\">유지</span>, <span class=\"blind\">위</span>, <span class=\"blind\">유지</span>, <span class=\"blind\">위</span>, <span class=\"blind\">유지</span>, <span class=\"blind\">위</span>, <span class=\"blind\">유지</span>, <span class=\"blind\">위</span>, <span class=\"blind\">유지</span>, <span class=\"blind\">위</span>, <span class=\"blind\">유지</span>, <span class=\"blind\">위</span>, <span class=\"blind\">유지</span>, <span class=\"blind\">위</span>, <span class=\"blind\">상승</span>, <span class=\"blind\">위</span>, <span class=\"blind\">유지</span>, <span class=\"blind\">위</span>, <span class=\"blind\">상승</span>, <span class=\"blind\">위</span>, <span class=\"blind\">상승</span>, <span class=\"blind\">위</span>, <span class=\"blind\">상승</span>, <span class=\"blind\">위</span>, <span class=\"blind\">하락</span>, <span class=\"blind\">위</span>, <span class=\"blind\">유지</span>, <span class=\"blind\">위</span>, <span class=\"blind\">상승</span>, <span class=\"blind\">위</span>, <span class=\"blind\">상승</span>, <span class=\"blind\">위</span>, <span class=\"blind\">상승</span>, <span class=\"blind\">위</span>, <span class=\"blind\">유지</span>, <span class=\"blind\">위</span>, <span class=\"blind\">유지</span>, <span class=\"blind\">위</span>, <span class=\"blind\">유지</span>, <span class=\"blind\">위</span>, <span class=\"blind\">하락</span>, <span class=\"blind\">위</span>, <span class=\"blind\">유지</span>, <span class=\"blind\">위</span>, <span class=\"blind\">유지</span>, <span class=\"blind\">위</span>, <span class=\"blind\">유지</span>, <span class=\"blind\">위</span>, <span class=\"blind\">상승</span>, <span class=\"blind\">위</span>, <span class=\"blind\">유지</span>, <span class=\"blind\">위</span>, <span class=\"blind\">상승</span>, <span class=\"blind\">위</span>, <span class=\"blind\">상승</span>, <span class=\"blind\">위</span>, <span class=\"blind\">유지</span>, <span class=\"blind\">위</span>, <span class=\"blind\">유지</span>, <span class=\"blind\">위</span>, <span class=\"blind\">유지</span>, <span class=\"blind\">위</span>, <span class=\"blind\">유지</span>, <span class=\"blind\">위</span>, <span class=\"blind\">유지</span>, <span class=\"blind\">위</span>, <span class=\"blind\">유지</span>, <span class=\"blind\">위</span>, <span class=\"blind\">유지</span>, <span class=\"blind\">위</span>, <span class=\"blind\">유지</span>, <span class=\"blind\">위</span>, <span class=\"blind\">유지</span>, <span class=\"blind\">위</span>, <span class=\"blind\">유지</span>, <span class=\"blind\">이전</span>, <span class=\"blind\">다음</span>, <span class=\"blind\">위</span>, <span class=\"blind\">위</span>, <span class=\"blind\">위</span>, <span class=\"blind\">위</span>, <span class=\"blind\">위</span>, <span class=\"blind\">위</span>, <span class=\"blind\">위</span>, <span class=\"blind\">위</span>, <span class=\"blind\">위</span>, <span class=\"blind\">위</span>, <span class=\"blind\">이전</span>, <span class=\"blind\">다음</span>, <span class=\"blind\">위</span>, <span class=\"blind\">위</span>, <span class=\"blind\">위</span>, <span class=\"blind\">위</span>, <span class=\"blind\">위</span>, <span class=\"blind\">위</span>, <span class=\"blind\">위</span>, <span class=\"blind\">위</span>, <span class=\"blind\">위</span>, <span class=\"blind\">위</span>, <span class=\"blind\">이전</span>, <span class=\"blind\">다음</span>, <span class=\"blind\">위</span>, <span class=\"blind\">위</span>, <span class=\"blind\">위</span>, <span class=\"blind\">위</span>, <span class=\"blind\">위</span>, <span class=\"blind\">위</span>, <span class=\"blind\">위</span>, <span class=\"blind\">위</span>, <span class=\"blind\">위</span>, <span class=\"blind\">위</span>, <span class=\"blind\">이전</span>, <span class=\"blind\">다음</span>, <span class=\"blind\">위</span>, <span class=\"blind\">위</span>, <span class=\"blind\">위</span>, <span class=\"blind\">청소년유해매체물</span>, <span class=\"blind\">위</span>, <span class=\"blind\">청소년유해매체물</span>, <span class=\"blind\">위</span>, <span class=\"blind\">위</span>, <span class=\"blind\">위</span>, <span class=\"blind\">청소년유해매체물</span>, <span class=\"blind\">위</span>, <span class=\"blind\">위</span>, <span class=\"blind\">위</span>, <span class=\"blind\">이전</span>, <span class=\"blind\">다음</span>, <span class=\"blind\">NAVER</span>, <span class=\"blind\">이전</span>, <span class=\"blind\">다음</span>, <span class=\"blind\"> <script id=\"veta_service_check\"></script> </span>, <span class=\"blind\">TOP</span>, <span class=\"blind\">라이트 모드로 보기</span>]\n"
     ]
    }
   ],
   "source": [
    "# 해당 태그에서 class 값을 기준으로 출력\n",
    "print(soup.find_all(\"span\", attrs = {\n",
    "    \"class\" : \"blind\"\n",
    "}))"
   ]
  },
  {
   "cell_type": "code",
   "execution_count": 23,
   "metadata": {},
   "outputs": [
    {
     "name": "stdout",
     "output_type": "stream",
     "text": [
      "네이버\n"
     ]
    }
   ],
   "source": [
    "print(soup.find(\"span\", attrs = {\n",
    "    \"class\" : \"blind\"\n",
    "}).get_text())"
   ]
  },
  {
   "cell_type": "code",
   "execution_count": 25,
   "metadata": {},
   "outputs": [
    {
     "data": {
      "text/plain": [
       "<span class=\"blind\">네이버</span>"
      ]
     },
     "execution_count": 25,
     "metadata": {},
     "output_type": "execute_result"
    }
   ],
   "source": [
    "data = soup.find(\"span\", attrs = {\n",
    "    \"class\" : \"blind\"\n",
    "})\n",
    "data"
   ]
  },
  {
   "cell_type": "code",
   "execution_count": 26,
   "metadata": {},
   "outputs": [
    {
     "data": {
      "text/plain": [
       "'네이버'"
      ]
     },
     "execution_count": 26,
     "metadata": {},
     "output_type": "execute_result"
    }
   ],
   "source": [
    "data.get_text()"
   ]
  },
  {
   "cell_type": "code",
   "execution_count": null,
   "metadata": {},
   "outputs": [],
   "source": [
    "span_list = soup.find_all(\"span\", attrs = {\n",
    "    \"class\" : \"blind\"\n",
    "})\n",
    "span_list"
   ]
  },
  {
   "cell_type": "code",
   "execution_count": null,
   "metadata": {},
   "outputs": [],
   "source": [
    "# 1. 리스트의 값들을 하나씩 출력\n",
    "for i in span_list :\n",
    "    print(i)"
   ]
  },
  {
   "cell_type": "code",
   "execution_count": null,
   "metadata": {},
   "outputs": [],
   "source": [
    "# 2. 리스트의 각각 text들을 하나씩 출력\n",
    "# case 1\n",
    "for i in span_list :\n",
    "    print(i.get_text())"
   ]
  },
  {
   "cell_type": "code",
   "execution_count": null,
   "metadata": {},
   "outputs": [],
   "source": [
    "# 2. 리스트의 각각 text들을 하나씩 출력\n",
    "# case 2\n",
    "for i in range(0, len(span_list), 1) :\n",
    "    print(span_list[i].get_text())"
   ]
  },
  {
   "cell_type": "code",
   "execution_count": null,
   "metadata": {},
   "outputs": [],
   "source": [
    "# 3. text들을 리스트로 생성\n",
    "# case 1\n",
    "data_list = []\n",
    "for i in span_list :\n",
    "    data_list.append(i.get_text())\n",
    "\n",
    "data_list"
   ]
  },
  {
   "cell_type": "code",
   "execution_count": null,
   "metadata": {},
   "outputs": [],
   "source": [
    "# 3. text들을 리스트로 생성\n",
    "# case 2\n",
    "data_list = []\n",
    "for i in range(0, len(span_list), 1) :\n",
    "    data = span_list[i].get_text()\n",
    "    data_list.append(data)\n",
    "\n",
    "data_list"
   ]
  },
  {
   "cell_type": "code",
   "execution_count": null,
   "metadata": {},
   "outputs": [],
   "source": [
    "# case 3\n",
    "# map함수 : map(함수, 리스트의 형태의 데이터)\n",
    "def change(x) :\n",
    "    #print(x.get_text())\n",
    "    return x.get_text()\n",
    "\n",
    "list(map(change, span_list))"
   ]
  },
  {
   "cell_type": "code",
   "execution_count": null,
   "metadata": {},
   "outputs": [],
   "source": [
    "# case 4\n",
    "# map(lambda함수, 리스트의 형태 데이터)\n",
    "\n",
    "list(map(lambda x : x.get_text() ,span_list))"
   ]
  }
 ],
 "metadata": {
  "kernelspec": {
   "display_name": "Python 3",
   "language": "python",
   "name": "python3"
  },
  "language_info": {
   "codemirror_mode": {
    "name": "ipython",
    "version": 3
   },
   "file_extension": ".py",
   "mimetype": "text/x-python",
   "name": "python",
   "nbconvert_exporter": "python",
   "pygments_lexer": "ipython3",
   "version": "3.11.1"
  },
  "orig_nbformat": 4
 },
 "nbformat": 4,
 "nbformat_minor": 2
}
