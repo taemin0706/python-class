{
 "cells": [
  {
   "attachments": {},
   "cell_type": "markdown",
   "metadata": {},
   "source": [
    "1. 함수 생성 - def 키워드를 이용해서 생성\n",
    "2. 매개변수 생성\n"
   ]
  },
  {
   "cell_type": "code",
   "execution_count": 1,
   "metadata": {},
   "outputs": [
    {
     "name": "stdout",
     "output_type": "stream",
     "text": [
      "1 2 3 4\n",
      "4 3 2 1\n"
     ]
    }
   ],
   "source": [
    "# 함수 생성\n",
    "def func_1(a, b, c, d):\n",
    "    print(a, b, c, d)\n",
    "\n",
    "# 함수 호출(매개변수의 개수와 인자의 개수를 동일하게)\n",
    "func_1(1, 2, 3, 4)\n",
    "func_1(4, 3, 2, 1)"
   ]
  },
  {
   "cell_type": "code",
   "execution_count": 4,
   "metadata": {},
   "outputs": [
    {
     "name": "stdout",
     "output_type": "stream",
     "text": [
      "1 2 3 4\n",
      "1 2 5 6\n"
     ]
    }
   ],
   "source": [
    "# 매개변수에 기본값 지정하여 함수 생ㅅ어\n",
    "def func_2(a, b, c=3, d=4):\n",
    "    print(a, b, c, d)\n",
    "\n",
    "# 함수 호출\n",
    "func_2(1, 2)\n",
    "func_2(1, 2, 5, 6)"
   ]
  },
  {
   "cell_type": "code",
   "execution_count": 5,
   "metadata": {},
   "outputs": [],
   "source": [
    "# 클래스를 선언\n",
    "class Class_1():\n",
    "    def func_1(self):\n",
    "        print(\"Class_1 Call\")"
   ]
  },
  {
   "cell_type": "code",
   "execution_count": 6,
   "metadata": {},
   "outputs": [
    {
     "name": "stdout",
     "output_type": "stream",
     "text": [
      "<__main__.Class_1 object at 0x000001FC1F922C90>\n"
     ]
    }
   ],
   "source": [
    "# 클래스 생성\n",
    "a = Class_1()\n",
    "print(a)"
   ]
  },
  {
   "cell_type": "code",
   "execution_count": 7,
   "metadata": {},
   "outputs": [
    {
     "name": "stdout",
     "output_type": "stream",
     "text": [
      "Class_1 Call\n"
     ]
    }
   ],
   "source": [
    "a.func_1()\n",
    "# a 안에 있는 func_1 이라는 함수를 불러내겠다\n",
    "# self 안에 a를 넣어주는 것"
   ]
  },
  {
   "cell_type": "code",
   "execution_count": 16,
   "metadata": {},
   "outputs": [],
   "source": [
    "# 클래스 선언\n",
    "# 생성자 함수를 입력\n",
    "class Class_2():\n",
    "    def __init__(self, input_a, input_b): # init이라는 함수는 class를 생성하자마자 바로 실행되는 함수이다.\n",
    "        self.a = input_a\n",
    "        self.b = input_b"
   ]
  },
  {
   "cell_type": "code",
   "execution_count": 17,
   "metadata": {},
   "outputs": [],
   "source": [
    "b = Class_2(5, 1)"
   ]
  },
  {
   "cell_type": "code",
   "execution_count": 18,
   "metadata": {},
   "outputs": [
    {
     "ename": "TypeError",
     "evalue": "Class_2.__init__() missing 2 required positional arguments: 'input_a' and 'input_b'",
     "output_type": "error",
     "traceback": [
      "\u001b[1;31m---------------------------------------------------------------------------\u001b[0m",
      "\u001b[1;31mTypeError\u001b[0m                                 Traceback (most recent call last)",
      "Cell \u001b[1;32mIn[18], line 1\u001b[0m\n\u001b[1;32m----> 1\u001b[0m c \u001b[39m=\u001b[39m Class_2()\n",
      "\u001b[1;31mTypeError\u001b[0m: Class_2.__init__() missing 2 required positional arguments: 'input_a' and 'input_b'"
     ]
    }
   ],
   "source": [
    "c = Class_2()"
   ]
  },
  {
   "cell_type": "code",
   "execution_count": 19,
   "metadata": {},
   "outputs": [],
   "source": [
    "c= Class_2(\"test\", \"test2\")"
   ]
  },
  {
   "cell_type": "code",
   "execution_count": 20,
   "metadata": {},
   "outputs": [
    {
     "name": "stdout",
     "output_type": "stream",
     "text": [
      "5\n",
      "test\n"
     ]
    }
   ],
   "source": [
    "# 같은 class 안에 다른 형태를 지님\n",
    "# b를 Class_2(5, 1)이라 선언하고, 그 b라는 class 안에 있는 변수 a를 불러오니 5가 출력되는 것.\n",
    "print(b.a)\n",
    "print(c.a)\n"
   ]
  },
  {
   "cell_type": "code",
   "execution_count": 21,
   "metadata": {},
   "outputs": [],
   "source": [
    "class Class_3():\n",
    "    def __init__(self, input_x, input_y):\n",
    "        self.x = input_x\n",
    "        self.y = input_y\n",
    "    def add(self): # self.x와 self.y의 값을 더해준 다음 리턴\n",
    "        self.result = self.x + self.y\n",
    "        return self.result\n",
    "    def subtract(self):\n",
    "        self.result = self.x - self.y\n",
    "        return self.result"
   ]
  },
  {
   "cell_type": "code",
   "execution_count": 22,
   "metadata": {},
   "outputs": [],
   "source": [
    "class_a = Class_3(10, 2)\n",
    "class_b = Class_3(50, 10)"
   ]
  },
  {
   "cell_type": "code",
   "execution_count": 23,
   "metadata": {},
   "outputs": [
    {
     "name": "stdout",
     "output_type": "stream",
     "text": [
      "12\n",
      "60\n"
     ]
    }
   ],
   "source": [
    "print(class_a.add())\n",
    "print(class_b.add())"
   ]
  },
  {
   "cell_type": "code",
   "execution_count": 24,
   "metadata": {},
   "outputs": [
    {
     "name": "stdout",
     "output_type": "stream",
     "text": [
      "8\n",
      "40\n"
     ]
    }
   ],
   "source": [
    "print(class_a.subtract())\n",
    "print(class_b.subtract())"
   ]
  },
  {
   "cell_type": "code",
   "execution_count": 25,
   "metadata": {},
   "outputs": [],
   "source": [
    "class Class_4():\n",
    "    _list = []\n",
    "\n",
    "    def __init__(self, input_name):\n",
    "        self.name = input_name\n",
    "    \n",
    "    def add_list(self, input_phone):\n",
    "        self._list.append(input_phone)"
   ]
  },
  {
   "cell_type": "code",
   "execution_count": 26,
   "metadata": {},
   "outputs": [],
   "source": [
    "test = Class_4(\"test\")\n",
    "test2 = Class_4(\"test2\")"
   ]
  },
  {
   "cell_type": "code",
   "execution_count": 27,
   "metadata": {},
   "outputs": [
    {
     "data": {
      "text/plain": [
       "[]"
      ]
     },
     "execution_count": 27,
     "metadata": {},
     "output_type": "execute_result"
    }
   ],
   "source": [
    "test._list"
   ]
  },
  {
   "cell_type": "code",
   "execution_count": 28,
   "metadata": {},
   "outputs": [],
   "source": [
    "test.add_list(\"01012345678\")"
   ]
  },
  {
   "cell_type": "code",
   "execution_count": 29,
   "metadata": {},
   "outputs": [
    {
     "name": "stdout",
     "output_type": "stream",
     "text": [
      "['01012345678']\n"
     ]
    }
   ],
   "source": [
    "print(test._list)"
   ]
  },
  {
   "cell_type": "code",
   "execution_count": 30,
   "metadata": {},
   "outputs": [],
   "source": [
    "test2.add_list(\"01078945623\")"
   ]
  },
  {
   "cell_type": "code",
   "execution_count": 31,
   "metadata": {},
   "outputs": [
    {
     "name": "stdout",
     "output_type": "stream",
     "text": [
      "['01012345678', '01078945623']\n"
     ]
    }
   ],
   "source": [
    "# class는 가장 큰 변수이고, 작은 통들에 self가 있는 것임. class 안에서 모두 공유됨.\n",
    "print(test2._list)"
   ]
  },
  {
   "cell_type": "code",
   "execution_count": null,
   "metadata": {},
   "outputs": [],
   "source": []
  }
 ],
 "metadata": {
  "kernelspec": {
   "display_name": "Python 3",
   "language": "python",
   "name": "python3"
  },
  "language_info": {
   "codemirror_mode": {
    "name": "ipython",
    "version": 3
   },
   "file_extension": ".py",
   "mimetype": "text/x-python",
   "name": "python",
   "nbconvert_exporter": "python",
   "pygments_lexer": "ipython3",
   "version": "3.11.1 (tags/v3.11.1:a7a450f, Dec  6 2022, 19:58:39) [MSC v.1934 64 bit (AMD64)]"
  },
  "orig_nbformat": 4,
  "vscode": {
   "interpreter": {
    "hash": "0a7a9f80e37fa898b854f3717fe0b619f288ac4457e260dc09378e4f3a576003"
   }
  }
 },
 "nbformat": 4,
 "nbformat_minor": 2
}
