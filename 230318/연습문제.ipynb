{
 "cells": [
  {
   "attachments": {},
   "cell_type": "markdown",
   "metadata": {},
   "source": [
    "# 페르마의 정리\n",
    "   > n이 2보다 큰 자연수인 경우에 a<sup>n</sup> + b<sup>n</sup> = c<sup>n</sup> 이 되는 자연수 a, b, c 는 존재하지 않는다  \n",
    "   > n이 3이고 a, b, c가 1부터 10까지 자연수 일 때 페르마의 마지막 정리가 사실임을 증명하시오  \n",
    "- (for문을 이용하여 증명하시오)"
   ]
  },
  {
   "cell_type": "code",
   "execution_count": null,
   "metadata": {},
   "outputs": [],
   "source": [
    "for a in range(1, 11, 1) :\n",
    "    for b in range(1, 11, 1) : \n",
    "        for c in range(1, 11, 1) : \n",
    "            if (a * a * a) + (b * b * b) == (c * c * c) : \n",
    "                print(\"페르마의 마지막 정리는 사실이 아님.\")\n",
    "else :\n",
    "    print(\"페르마의 마지막 정리가 사실임\")"
   ]
  },
  {
   "attachments": {},
   "cell_type": "markdown",
   "metadata": {},
   "source": [
    "# max() 함수 만들기\n",
    "1. max() 함수는 개수가 가변인 인자의 값들을 비교하여 가장 큰 수를 돌려주는 함수이다. \n",
    "2. 이 함수와 같은 행동를 하는 함수를 생성\n",
    "    - 개수가 가변인 매개변수 생성\n",
    "    - for문과 if문을 이용하여 함수를 생성"
   ]
  },
  {
   "cell_type": "code",
   "execution_count": null,
   "metadata": {},
   "outputs": [],
   "source": [
    "def max(*args) :\n",
    "    max = args[0]\n",
    "    for num in args :\n",
    "        if num > max :\n",
    "            max = num\n",
    "    print(max)"
   ]
  },
  {
   "cell_type": "code",
   "execution_count": null,
   "metadata": {},
   "outputs": [],
   "source": [
    "max(1, 10, 100, 1000, 10000)"
   ]
  },
  {
   "cell_type": "code",
   "execution_count": null,
   "metadata": {},
   "outputs": [],
   "source": [
    "max(9, 8, 7, 6, 5, 4, 3, 2, 1, 0)"
   ]
  },
  {
   "cell_type": "code",
   "execution_count": null,
   "metadata": {},
   "outputs": [],
   "source": [
    "max(-10, -9, -8, -7, -6, -5, -4, -3, -2, -1)"
   ]
  },
  {
   "attachments": {},
   "cell_type": "markdown",
   "metadata": {},
   "source": [
    "# 카드 이용 내역\n",
    "\n",
    "- test_csv 폴더의 유통+업종 데이터를 로드하여 문제를 푸시오\n",
    "\n",
    "1. 각 컬럼의 이름을 변경 ['기준년월', '업종', '성별', '연령대', '총이용건수', '총이용금액']\n",
    "2. 기준년월을 시계열로 변경\n",
    "3. index를 기준년월 변경\n",
    "4. 데이터를 확인하여서 굉장히 이상한 데이터가 존재 체크\n",
    "5. 성별 컬럼의 데이터 값을 1은 남자, 2는 여자 변경\n",
    "6. 남, 녀 성별을 기준으로 연도별 건당 이용 금액의 평균이 몇인지 출력 & 시각화"
   ]
  },
  {
   "cell_type": "code",
   "execution_count": null,
   "metadata": {},
   "outputs": [],
   "source": [
    "import pandas as pd"
   ]
  },
  {
   "cell_type": "code",
   "execution_count": null,
   "metadata": {},
   "outputs": [],
   "source": [
    "df = pd.read_csv(\"../test_csv/유통+업종(백화점,+할인점,+슈퍼마켓,+편의점)+카드소비트렌드+데이터_1901_2109.csv\", encoding = \"euc-kr\")"
   ]
  },
  {
   "cell_type": "code",
   "execution_count": null,
   "metadata": {},
   "outputs": [],
   "source": [
    "df.columns"
   ]
  },
  {
   "cell_type": "code",
   "execution_count": null,
   "metadata": {},
   "outputs": [],
   "source": [
    "# 1. 각 컬럼의 이름을 변경 ['기준년월', '업종', '성별', '연령대', '총이용건수', '총이용금액']\n",
    "df.columns = [\"기준년월\", \"업종\", \"성별\", \"연령대\", \"총이용건수\", \"총이용금액\"]"
   ]
  },
  {
   "cell_type": "code",
   "execution_count": null,
   "metadata": {},
   "outputs": [],
   "source": [
    "df.head()"
   ]
  },
  {
   "cell_type": "code",
   "execution_count": null,
   "metadata": {},
   "outputs": [],
   "source": [
    "# 2. 기준년월을 시계열로 변경\n",
    "df[\"기준년월\"] = pd.to_datetime(df[\"기준년월\"], format = \"%Y%m\")"
   ]
  },
  {
   "cell_type": "code",
   "execution_count": null,
   "metadata": {},
   "outputs": [],
   "source": [
    "df.head()"
   ]
  },
  {
   "cell_type": "code",
   "execution_count": null,
   "metadata": {},
   "outputs": [],
   "source": [
    "# 3. index를 기준년월로 변경\n",
    "df = df.set_index([\"기준년월\"])\n",
    "df"
   ]
  },
  {
   "cell_type": "code",
   "execution_count": null,
   "metadata": {},
   "outputs": [],
   "source": [
    "# 4. 데이터를 확인하여서 굉장히 이상한 데이터가 존재 체크\n",
    "(df[[\"총이용건수\", \"총이용금액\"]] < 0).any(0)"
   ]
  },
  {
   "cell_type": "code",
   "execution_count": null,
   "metadata": {},
   "outputs": [],
   "source": [
    "df[\"성별\"].value_counts()"
   ]
  },
  {
   "cell_type": "code",
   "execution_count": null,
   "metadata": {},
   "outputs": [],
   "source": [
    "df[\"연령대\"].value_counts()"
   ]
  },
  {
   "cell_type": "code",
   "execution_count": null,
   "metadata": {},
   "outputs": [],
   "source": [
    "# 연령대가 0인 데이터를 제외\n",
    "df_2 = df[~(df[\"연령대\"] == 0)]"
   ]
  },
  {
   "cell_type": "code",
   "execution_count": null,
   "metadata": {},
   "outputs": [],
   "source": [
    "# 5. 성별 컬럼의 데이터 값을 1은 남자, 2는 여자 변경\n",
    "df_2[\"성별\"] = df_2[\"성별\"].apply(lambda x : \"남자\" if x == 1 else \"여자\")"
   ]
  },
  {
   "cell_type": "code",
   "execution_count": null,
   "metadata": {},
   "outputs": [],
   "source": [
    "# 6. 남, 녀 성별을 기준으로 연도별 건당 이용 금액의 평균이 몇인지 출력 & 시각화\n",
    "# 연도 컬럼을 생성\n",
    "df_2[\"연도\"] = df_2.index.strftime(\"%Y\")"
   ]
  },
  {
   "cell_type": "code",
   "execution_count": null,
   "metadata": {},
   "outputs": [],
   "source": [
    "# 건당 평균 금액 컬럼 생성\n",
    "df_2[\"건당이용금액\"] = df_2[\"총이용금액\"] / df_2[\"총이용건수\"]"
   ]
  },
  {
   "cell_type": "code",
   "execution_count": null,
   "metadata": {},
   "outputs": [],
   "source": [
    "pivot = pd.pivot_table(\n",
    "    df_2,         # 기준이 되는 데이터프레임\n",
    "    index = \"연도\", # 연도로 그룹화\n",
    "    columns = \"성별\", # 성별로 분할\n",
    "    values = \"건당이용금액\",  # 그룹화된 데이터들의 총 이용금액을 선택\n",
    "    aggfunc = \"mean\" # 건당이용금액의 평균\n",
    ")"
   ]
  },
  {
   "cell_type": "code",
   "execution_count": null,
   "metadata": {},
   "outputs": [],
   "source": [
    "pivot"
   ]
  },
  {
   "cell_type": "code",
   "execution_count": null,
   "metadata": {},
   "outputs": [],
   "source": [
    "pivot.plot.bar()"
   ]
  },
  {
   "cell_type": "code",
   "execution_count": null,
   "metadata": {},
   "outputs": [],
   "source": [
    "# 한글 깨짐 방지\n",
    "import matplotlib.pyplot as plt\n",
    "import platform\n",
    "\n",
    "if platform.system() == \"Darwin\" : #MAC인 경우\n",
    "    plt.rc(\"font\", family = \"AppleGothic\")\n",
    "else :\n",
    "    plt.rc(\"font\", family = \"Malgun Gothic\")"
   ]
  },
  {
   "attachments": {},
   "cell_type": "markdown",
   "metadata": {},
   "source": [
    "## 온라인 카드 매출과 오프라인 카드매출을 월별로 비교\n",
    "1. 오프라인 데이터 df를 월별로 그룹화 총이용금액의 합계\n",
    "    - 기준년월을 시계열데이터 변경\n",
    "    - 기준년월 인덱스로 변경\n",
    "    - 인덱스를 기준으로 그룹화 -> 총이용금액의 합계\n",
    "2. 온라인 데이터 df_online도 월별로 그룹화 총이용금액의 합계\n",
    "    - 기준년월을 시계열데이터 변경\n",
    "    - 기준년월 인덱스로 변경\n",
    "    - 인덱스를 기준으로 그룹화 -> 총이용금액의 합계\n",
    "3. 1,2번과정에서 나온 데이터를 plot 그래프를 그려서 차이를 확인\n",
    "4. 2개의 데이터프레임을 단순한 행 결합\n",
    "    - df_online에 업종 파생 변수 생성 값은 \"온라인\"\n",
    "    - df와 df_online 데이터프레임을 행 결합\n",
    "    - 월별, 업종별로 총 이용 금액을 pivot_table을 이용하여 그래프 시각화"
   ]
  },
  {
   "cell_type": "code",
   "execution_count": null,
   "metadata": {},
   "outputs": [],
   "source": [
    "df.head()"
   ]
  },
  {
   "cell_type": "code",
   "execution_count": null,
   "metadata": {},
   "outputs": [],
   "source": [
    "# 인덱스를 기준으로 그룹화 총이용금액의 합계\n",
    "group_df = df.groupby(df.index).sum()[\"총이용금액\"]\n",
    "group_df"
   ]
  },
  {
   "cell_type": "code",
   "execution_count": null,
   "metadata": {},
   "outputs": [],
   "source": [
    "df_online = pd.read_csv(\"../test_csv/온라인+카드소비트렌드+데이터_1901_2109.csv\")"
   ]
  },
  {
   "cell_type": "code",
   "execution_count": null,
   "metadata": {},
   "outputs": [],
   "source": [
    "# 컬럼을 이름 변경\n",
    "df_online.columns = [\"기준년월\", \"성별\", \"연령대\", \"총이용건수\", \"총이용금액\"]"
   ]
  },
  {
   "cell_type": "code",
   "execution_count": null,
   "metadata": {},
   "outputs": [],
   "source": [
    "# 기준년월 시계열 변경 -> 인덱스로 변경\n",
    "df_online[\"기준년월\"] = pd.to_datetime(df_online[\"기준년월\"], format = \"%Y%m\")\n",
    "df_online.set_index(\"기준년월\", inplace=True)\n",
    "df_online.head()"
   ]
  },
  {
   "cell_type": "code",
   "execution_count": null,
   "metadata": {},
   "outputs": [],
   "source": [
    "group_df_online = df_online.groupby(df_online.index).sum()[\"총이용금액\"]"
   ]
  },
  {
   "cell_type": "code",
   "execution_count": null,
   "metadata": {},
   "outputs": [],
   "source": [
    "group_df_online"
   ]
  },
  {
   "cell_type": "code",
   "execution_count": null,
   "metadata": {},
   "outputs": [],
   "source": [
    "# 두 개의 그룹화 데이터를 시각화\n",
    "plt.figure(figsize = (14, 6))\n",
    "plt.grid(True, axis = \"y\")\n",
    "plt.plot(group_df, label = \"오프라인\")\n",
    "plt.plot(group_df_online, label = \"온라인\")\n",
    "plt.legend()\n",
    "plt.show()"
   ]
  },
  {
   "cell_type": "code",
   "execution_count": null,
   "metadata": {},
   "outputs": [],
   "source": [
    "# 두 개의 데이터프레임 결합\n",
    "# online 데이터에는 업종 컬럼이 존재하지 않는다.\n",
    "df_online[\"업종\"] = \"온라인\""
   ]
  },
  {
   "cell_type": "code",
   "execution_count": null,
   "metadata": {},
   "outputs": [],
   "source": [
    "# 데이터프레임의 단순한 행 결합\n",
    "total_df = pd.concat((df, df_online), axis = 0)"
   ]
  },
  {
   "cell_type": "code",
   "execution_count": null,
   "metadata": {},
   "outputs": [],
   "source": [
    "pivot_table = pd.pivot_table(\n",
    "    total_df,\n",
    "    index = total_df.index,\n",
    "    columns = \"업종\",\n",
    "    aggfunc = \"sum\",\n",
    "    values = \"총이용금액\"\n",
    "    )"
   ]
  },
  {
   "cell_type": "code",
   "execution_count": null,
   "metadata": {},
   "outputs": [],
   "source": [
    "pivot_table"
   ]
  },
  {
   "cell_type": "code",
   "execution_count": 247,
   "metadata": {},
   "outputs": [
    {
     "data": {
      "text/plain": [
       "<AxesSubplot: xlabel='기준년월'>"
      ]
     },
     "execution_count": 247,
     "metadata": {},
     "output_type": "execute_result"
    },
    {
     "data": {
      "image/png": "[encoded data removed]",
      "text/plain": [
       "<Figure size 640x480 with 1 Axes>"
      ]
     },
     "metadata": {},
     "output_type": "display_data"
    }
   ],
   "source": [
    "pivot_table.plot()"
   ]
  },
  {
   "cell_type": "code",
   "execution_count": 249,
   "metadata": {},
   "outputs": [],
   "source": [
    "# 지수 표현 없이 출력 세팅\n",
    "pd.options.display.float_format = \"{:2f}\".format"
   ]
  }
 ],
 "metadata": {
  "kernelspec": {
   "display_name": "Python 3",
   "language": "python",
   "name": "python3"
  },
  "language_info": {
   "codemirror_mode": {
    "name": "ipython",
    "version": 3
   },
   "file_extension": ".py",
   "mimetype": "text/x-python",
   "name": "python",
   "nbconvert_exporter": "python",
   "pygments_lexer": "ipython3",
   "version": "3.11.1"
  },
  "orig_nbformat": 4
 },
 "nbformat": 4,
 "nbformat_minor": 2
}
